{
 "cells": [
  {
   "cell_type": "markdown",
   "metadata": {},
   "source": [
    "# Algorithms, Binary Search & Linked Lists"
   ]
  },
  {
   "cell_type": "markdown",
   "metadata": {},
   "source": [
    "## Tasks Today:\n",
    " \n",
    "1) <b>In-Place Algorithms</b> <br>\n",
    " &nbsp;&nbsp;&nbsp;&nbsp; a) Syntax <br>\n",
    " &nbsp;&nbsp;&nbsp;&nbsp; a) Out of Place Algorithm <br>\n",
    " &nbsp;&nbsp;&nbsp;&nbsp; b) In-Class Exercise #1 <br>\n",
    "2) <b>Two Pointers</b> <br>\n",
    "3) <b>Linked Lists</b> <br>\n",
    "4) <b>Merge Sort</b> <br>\n",
    " &nbsp;&nbsp;&nbsp;&nbsp; a) Video on Algorithms <br>\n",
    " &nbsp;&nbsp;&nbsp;&nbsp; b) How it Works <br>\n",
    "5) <b>Exercises</b> <br>\n",
    " &nbsp;&nbsp;&nbsp;&nbsp; a) Exercise #1 - Reverse a List in Place Using an In-Place Algorithm <br>\n",
    " &nbsp;&nbsp;&nbsp;&nbsp; b) Exercise #2 - Find Distinct Words <br>\n",
    " &nbsp;&nbsp;&nbsp;&nbsp; c) Exercise #3 - Write a program to implement a Linear Search Algorithm. <br>"
   ]
  },
  {
   "cell_type": "markdown",
   "metadata": {},
   "source": [
    "## In-Place Algorithms"
   ]
  },
  {
   "cell_type": "markdown",
   "metadata": {},
   "source": [
    "#### Syntax"
   ]
  },
  {
   "cell_type": "code",
   "execution_count": 1,
   "metadata": {},
   "outputs": [
    {
     "name": "stdout",
     "output_type": "stream",
     "text": [
      "before swap: [20, 4, 10]\n",
      "after swap: [20, 10, 4]\n"
     ]
    }
   ],
   "source": [
    "# var[i], var[i+1] = var[i+1], var[i]\n",
    "#sometimes known as a swap algorithm\n",
    "\n",
    "def swap(a_list, x ,y ,z):\n",
    "    a_list[x],a_list[y],a_list[z]= a_list[z], a_list[y], a_list[x]\n",
    "    \n",
    "    return a_list\n",
    "\n",
    "my_list= [20,4,10]\n",
    "print(f'before swap: {my_list}')\n",
    "\n",
    "#swap\n",
    "swap(my_list, 2, 0, 1)\n",
    "\n",
    "print(f'after swap: {my_list}')"
   ]
  },
  {
   "cell_type": "markdown",
   "metadata": {},
   "source": [
    "#### Out of Place Algorithm"
   ]
  },
  {
   "cell_type": "code",
   "execution_count": 3,
   "metadata": {},
   "outputs": [
    {
     "name": "stdout",
     "output_type": "stream",
     "text": [
      "[4, 10, 20]\n",
      "[20, 10, 4]\n",
      "Before ['a', 'b', 'c', 'd']\n",
      "After  ['d', 'c', 'b', 'a']\n"
     ]
    }
   ],
   "source": [
    "#not swapping, completely reversing but also copies to another place in memory\n",
    "\n",
    "my_list_copy= my_list[::-1]\n",
    "print(my_list_copy)\n",
    "print(my_list)\n",
    "\n",
    "array = ['a','b','c','d']\n",
    "new_array =['a']* len(array)\n",
    "\n",
    "print(\"Before\" , array)\n",
    "length = len(array)-1\n",
    "\n",
    "for i in range(length):\n",
    "    new_array[i] = array[length-i]\n",
    "\n",
    "array = new_array\n",
    "print(\"After \", array)"
   ]
  },
  {
   "cell_type": "markdown",
   "metadata": {},
   "source": [
    "#### In-Class Exercise #1 <br>\n",
    "<p>Write a function that takes in four arguments (list, index1, index2, index3), and swaps those three positions in the list passed in.</p>"
   ]
  },
  {
   "cell_type": "code",
   "execution_count": 5,
   "metadata": {},
   "outputs": [
    {
     "name": "stdout",
     "output_type": "stream",
     "text": [
      "[10, 4, 3, 8, 4, 2, 6]\n",
      "[10, 3, 2, 8, 4, 4, 6]\n"
     ]
    }
   ],
   "source": [
    "l_1 = [10, 4, 3, 8, 4, 2, 6]\n",
    "\n",
    "def mixxy(list_1, i1,i2,i3):\n",
    "    \n",
    "    list_1[i1],list_1[i2],list_1[i3]=list_1[i3],list_1[i1],list_1[i2]\n",
    "    \n",
    "\n",
    "print(l_1)\n",
    "mixxy(l_1, 2,1,5)\n",
    "print(l_1)"
   ]
  },
  {
   "cell_type": "markdown",
   "metadata": {},
   "source": [
    "## Two Pointers"
   ]
  },
  {
   "cell_type": "markdown",
   "metadata": {},
   "source": [
    "#### Syntax"
   ]
  },
  {
   "cell_type": "code",
   "execution_count": 7,
   "metadata": {},
   "outputs": [
    {
     "name": "stdout",
     "output_type": "stream",
     "text": [
      "[2, 34, 5, 6, 7, 2, 3, 6, 1]\n",
      "[1, 6, 3, 2, 7, 6, 5, 34, 2]\n"
     ]
    }
   ],
   "source": [
    "# alist[left], alist[right] = alist[right], alist[left]\n",
    "\n",
    "def twoPointers(alist):\n",
    "    #create the pointers\n",
    "    left=0\n",
    "    right= len(alist)-1\n",
    "    \n",
    "    # set up a loop that works through our list and swaps things one pair at a time\n",
    "    \n",
    "    while left < right:\n",
    "        alist[left],alist[right]= alist[right], alist[left]\n",
    "        left+=1\n",
    "        right-=1\n",
    "        \n",
    "    return alist\n",
    "\n",
    "my_list2= [2,34,5,6,7,2,3,6,1]\n",
    "print(my_list2)\n",
    "print(twoPointers(my_list2))"
   ]
  },
  {
   "cell_type": "markdown",
   "metadata": {},
   "source": [
    "#### Video of Algorithms <br>\n",
    "<p>Watch the video about algorithms.</p>\n",
    "\n",
    "https://www.youtube.com/watch?v=Q9HjeFD62Uk\n",
    "\n",
    "https://www.youtube.com/watch?v=kPRA0W1kECg\n",
    "\n",
    "https://www.youtube.com/watch?v=ZZuD6iUe3Pc"
   ]
  },
  {
   "cell_type": "markdown",
   "metadata": {},
   "source": [
    "# Sorting Algorithms"
   ]
  },
  {
   "cell_type": "markdown",
   "metadata": {},
   "source": [
    "#### Bubble Sort\n",
    "\n",
    "Worst Case: O(n^2) Time - O(1) Space"
   ]
  },
  {
   "cell_type": "code",
   "execution_count": 8,
   "metadata": {},
   "outputs": [
    {
     "data": {
      "text/plain": [
       "[1, 22, 34, 44, 44, 66, 77, 88, 100]"
      ]
     },
     "execution_count": 8,
     "metadata": {},
     "output_type": "execute_result"
    }
   ],
   "source": [
    "#Best case: O(n) - linear\n",
    "def swap(i,j,array):\n",
    "    array[i],array[j] = array[j],array[i]\n",
    "    \n",
    "def bubbleSort(array):\n",
    "    isSorted = False\n",
    "    while not isSorted:\n",
    "        isSorted =True\n",
    "        for num in range(len(array)-1):\n",
    "            if array[num] > array[num+1]:\n",
    "                swap(num,num+1,array)\n",
    "                isSorted = False\n",
    "                \n",
    "    return array\n",
    "\n",
    "bubbleSort([22,44,88,77,44,1,100,34,66])"
   ]
  },
  {
   "cell_type": "markdown",
   "metadata": {},
   "source": [
    "##### Insertion Sort\n",
    "\n",
    "Worst Case: O(n^2) time - O(1)space"
   ]
  },
  {
   "cell_type": "code",
   "execution_count": 10,
   "metadata": {},
   "outputs": [
    {
     "data": {
      "text/plain": [
       "[1, 22, 34, 44, 44, 66, 77, 88, 100]"
      ]
     },
     "execution_count": 10,
     "metadata": {},
     "output_type": "execute_result"
    }
   ],
   "source": [
    "def swap(i,j, array):\n",
    "    array[i],array[j] = array[j],array[i]\n",
    "    \n",
    "def insertionSort(array):\n",
    "    for i in range(1, len(array)):\n",
    "        j=i\n",
    "        while j > 0 and array[j] < array[j-1]:\n",
    "            swap(j, j-1, array)\n",
    "            j-=1\n",
    "    return array\n",
    "\n",
    "insertionSort([22,44,88,77,44,1,100,34,66])"
   ]
  },
  {
   "cell_type": "markdown",
   "metadata": {},
   "source": [
    "## Merge Sort"
   ]
  },
  {
   "cell_type": "markdown",
   "metadata": {},
   "source": [
    "#### How it Works"
   ]
  },
  {
   "cell_type": "code",
   "execution_count": 20,
   "metadata": {},
   "outputs": [
    {
     "name": "stdout",
     "output_type": "stream",
     "text": [
      "Splitting...  [14, 13, 18, 9, 16, 16, 3, 17, 20, 5]\n",
      "Splitting...  [14, 13, 18, 9, 16]\n",
      "Splitting...  [14, 13]\n",
      "Splitting...  [14]\n",
      "Merging...  [14]\n",
      "Splitting...  [13]\n",
      "Merging...  [13]\n",
      "Merging...  [13, 14]\n",
      "Splitting...  [18, 9, 16]\n",
      "Splitting...  [18]\n",
      "Merging...  [18]\n",
      "Splitting...  [9, 16]\n",
      "Splitting...  [9]\n",
      "Merging...  [9]\n",
      "Splitting...  [16]\n",
      "Merging...  [16]\n",
      "Merging...  [9, 16]\n",
      "Merging...  [9, 16, 18]\n",
      "Merging...  [9, 13, 14, 16, 18]\n",
      "Splitting...  [16, 3, 17, 20, 5]\n",
      "Splitting...  [16, 3]\n",
      "Splitting...  [16]\n",
      "Merging...  [16]\n",
      "Splitting...  [3]\n",
      "Merging...  [3]\n",
      "Merging...  [3, 16]\n",
      "Splitting...  [17, 20, 5]\n",
      "Splitting...  [17]\n",
      "Merging...  [17]\n",
      "Splitting...  [20, 5]\n",
      "Splitting...  [20]\n",
      "Merging...  [20]\n",
      "Splitting...  [5]\n",
      "Merging...  [5]\n",
      "Merging...  [5, 20]\n",
      "Merging...  [5, 17, 20]\n",
      "Merging...  [3, 5, 16, 17, 20]\n",
      "Merging...  [3, 5, 9, 13, 14, 16, 16, 17, 18, 20]\n"
     ]
    },
    {
     "data": {
      "text/plain": [
       "[3, 5, 9, 13, 14, 16, 16, 17, 18, 20]"
      ]
     },
     "execution_count": 20,
     "metadata": {},
     "output_type": "execute_result"
    }
   ],
   "source": [
    "#Step 1: Split everything into it's own group\n",
    "#Step 2: From left to right, merge two groups together\n",
    "#Step 3: while merging, place each item in teh correct position within the merged group\n",
    "#Step 4: continue steps 3-4 until only one group is left.\n",
    "\n",
    "from random import randint\n",
    "\n",
    "nums=[randint(0,20) for i in range(10)]\n",
    "\n",
    "def mergeSort(alist):\n",
    "    print(\"Splitting... \", alist)\n",
    "    \n",
    "    #step 1\n",
    "    if len(alist)>1:\n",
    "        mid= len(alist)//2\n",
    "        lefthalf = alist[:mid]\n",
    "        righthalf = alist[mid:]\n",
    "        \n",
    "        #recursively mergeSort to perform splits if needed\n",
    "        #Then merge once the splits are done\n",
    "        mergeSort(lefthalf)\n",
    "        mergeSort(righthalf)\n",
    "        \n",
    "        #index pointers for out list\n",
    "        i=0 #pointer for our left half\n",
    "        j=0 #pointer for our right half\n",
    "        k=0 #pointer for our main array\n",
    "        \n",
    "        #step 2: compare the lefthalf and the righthalf\n",
    "        while i< len(lefthalf) and j < len(righthalf):\n",
    "            if lefthalf[i] < righthalf[j]:\n",
    "                alist[k] = lefthalf[i]\n",
    "                i= i+1\n",
    "            else:\n",
    "                alist[k] = righthalf[j]\n",
    "                j=j+1\n",
    "            k=k+1\n",
    "        #step 3: while merging place items in the correct positions\n",
    "        while i < len(lefthalf):\n",
    "            alist[k] = lefthalf[i]\n",
    "            i= i +1\n",
    "            k= k+1\n",
    "        while j <len(righthalf):\n",
    "            alist[k] = righthalf[j]\n",
    "            j= j+1\n",
    "            k= k+1\n",
    "    print(\"Merging... \", alist)\n",
    "    return alist\n",
    "\n",
    "mergeSort(nums)"
   ]
  },
  {
   "cell_type": "markdown",
   "metadata": {},
   "source": [
    "# Binary Search\n",
    "\n",
    "The Binary Search algorithm works by finding the number in the middle of a given array and comparing it to the target. Given that the array is sorted\n",
    "\n",
    "* The worst case run time for this algorithm is `O(log(n))`"
   ]
  },
  {
   "cell_type": "code",
   "execution_count": 23,
   "metadata": {},
   "outputs": [
    {
     "name": "stdout",
     "output_type": "stream",
     "text": [
      "Split\n",
      "Target is on the left of :  66\n",
      "Split\n",
      "Target is on the right of :  33\n",
      "Split\n"
     ]
    },
    {
     "data": {
      "text/plain": [
       "'The index is... 2'"
      ]
     },
     "execution_count": 23,
     "metadata": {},
     "output_type": "execute_result"
    }
   ],
   "source": [
    "#Less = left\n",
    "#Greater = right\n",
    "#list of numbers Must be sorted\n",
    "\n",
    "def binaryHelper(array, target, left, right):\n",
    "    while left <= right:\n",
    "        middle = (left +right)//2\n",
    "        print(\"Split\")\n",
    "        potentialMatch = array[middle]\n",
    "        if target == potentialMatch:\n",
    "            return f\"The index is... {middle}\"\n",
    "        elif target < potentialMatch:\n",
    "            print(\"Target is on the left of : \", potentialMatch)\n",
    "            right = middle -1\n",
    "        else:\n",
    "            left= middle+1\n",
    "            print(\"Target is on the right of : \", potentialMatch)\n",
    "    return -1\n",
    "\n",
    "def binarySearch(array, target):\n",
    "    return binaryHelper(array,target, 0, len(array)-1)\n",
    "\n",
    "binarySearch([22,33,44,55,66,77,88,91,99],44)"
   ]
  },
  {
   "cell_type": "markdown",
   "metadata": {},
   "source": [
    "# Exercises"
   ]
  },
  {
   "cell_type": "markdown",
   "metadata": {},
   "source": [
    "### Exercise #1 <br>\n",
    "<p>Reverse the list below in-place using an in-place algorithm.<br>For extra credit: Reverse the strings at the same time.</p>"
   ]
  },
  {
   "cell_type": "code",
   "execution_count": null,
   "metadata": {},
   "outputs": [],
   "source": [
    "words = ['this' , 'is', 'a', 'sentence', '.']\n",
    "\n",
    "def reverse(list1):\n",
    "    \n",
    "    i=0\n",
    "    j = len(list1)-1\n",
    "    while i<=j :\n",
    "        for x in list1[]\n",
    "        temp=list1[i]\n",
    "        list1[i]=list1[j]\n",
    "        list1[j]=temp\n",
    "        i+=1\n",
    "        j-=1\n",
    "    return list1\n",
    "\n",
    "reverse(words)"
   ]
  },
  {
   "cell_type": "markdown",
   "metadata": {},
   "source": [
    "### Exercise #2 <br>\n",
    "<p>Create a function that counts how many distinct words are in the string below, then outputs a dictionary with the words as the key and the value as the amount of times that word appears in the string.<br>Should output:<br>{'a': 5,<br>\n",
    " 'abstract': 1,<br>\n",
    " 'an': 3,<br>\n",
    " 'array': 2, ... etc...</p>"
   ]
  },
  {
   "cell_type": "code",
   "execution_count": null,
   "metadata": {},
   "outputs": [],
   "source": [
    "a_text = 'In computing, a hash table hash map is a data structure which implements an associative array abstract data type, a structure that can map keys to values. A hash table uses a hash function to compute an index into an array of buckets or slots from which the desired value can be found'\n",
    "\n"
   ]
  },
  {
   "cell_type": "markdown",
   "metadata": {},
   "source": [
    "## Exercise #3\n",
    "\n",
    "Write a program to implement a Linear Search Algorithm. Also in a comment, write the Time Complexity of the following algorithm.\n",
    "\n",
    "#### Hint: Linear Searching will require searching a list for a given number. "
   ]
  },
  {
   "cell_type": "code",
   "execution_count": null,
   "metadata": {},
   "outputs": [],
   "source": [
    "nums_list =[10,23,45,70,11,15]"
   ]
  }
 ],
 "metadata": {
  "kernelspec": {
   "display_name": "Python 3 (ipykernel)",
   "language": "python",
   "name": "python3"
  },
  "language_info": {
   "codemirror_mode": {
    "name": "ipython",
    "version": 3
   },
   "file_extension": ".py",
   "mimetype": "text/x-python",
   "name": "python",
   "nbconvert_exporter": "python",
   "pygments_lexer": "ipython3",
   "version": "3.10.9"
  }
 },
 "nbformat": 4,
 "nbformat_minor": 2
}
